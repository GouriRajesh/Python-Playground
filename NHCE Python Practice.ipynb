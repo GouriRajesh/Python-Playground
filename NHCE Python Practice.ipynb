{
 "cells": [
  {
   "cell_type": "markdown",
   "metadata": {},
   "source": [
    "**Q]: Write a python program to find the repeated substrings in a given string**"
   ]
  },
  {
   "cell_type": "code",
   "execution_count": 15,
   "metadata": {},
   "outputs": [
    {
     "name": "stdout",
     "output_type": "stream",
     "text": [
      "Enter the string: hihowareyougoodiamgoodhowareyou\n",
      "The repeated substrings in the given string are: {'howa': 2, 'owar': 2, 'ware': 2, 'arey': 2, 'reyo': 2, 'eyou': 2, 'good': 2, 'howar': 2, 'oware': 2, 'warey': 2, 'areyo': 2, 'reyou': 2, 'howare': 2, 'owarey': 2, 'wareyo': 2, 'areyou': 2, 'howarey': 2, 'owareyo': 2, 'wareyou': 2, 'howareyo': 2, 'owareyou': 2, 'howareyou': 2}\n"
     ]
    }
   ],
   "source": [
    "s = input(\"Enter the string: \")\n",
    "l = len(s)\n",
    "sub = []\n",
    "n=4\n",
    "\n",
    "# Creating a list of possible substrings\n",
    "while(n<=l):\n",
    "    for i in range(0,l):\n",
    "        subs=s[i:i+n]\n",
    "        if len(subs)>=4:\n",
    "            sub.append(subs)\n",
    "    n+=1\n",
    "\n",
    "# Checking for repetition\n",
    "count=0\n",
    "res={}\n",
    "for i in sub:\n",
    "    length = len(i)\n",
    "    for j in range(0,l):\n",
    "        if i==s[j:j+length]:\n",
    "            count+=1\n",
    "    if count>1:\n",
    "        res[i]=count\n",
    "    count=0\n",
    "    \n",
    "print(\"The repeated substrings in the given string are:\",res)\n",
    "    "
   ]
  },
  {
   "cell_type": "markdown",
   "metadata": {},
   "source": [
    "**Q] Write a program to multiply argument a witch b and return the result using lambda function.**"
   ]
  },
  {
   "cell_type": "code",
   "execution_count": 4,
   "metadata": {},
   "outputs": [
    {
     "name": "stdout",
     "output_type": "stream",
     "text": [
      "Enter a value: 5\n",
      "Enter b value: 2\n",
      "The product of a and b is:  10\n"
     ]
    }
   ],
   "source": [
    "a1=int(input(\"Enter a value: \"))\n",
    "b1=int(input(\"Enter b value: \"))\n",
    "\n",
    "x = lambda a,b: a*b\n",
    "print(\"The product of a and b is: \",x(a1,b1))\n"
   ]
  },
  {
   "cell_type": "markdown",
   "metadata": {},
   "source": [
    "**Q] Write a python function that always doubles the number you send in using lambda function.**"
   ]
  },
  {
   "cell_type": "code",
   "execution_count": 5,
   "metadata": {},
   "outputs": [
    {
     "name": "stdout",
     "output_type": "stream",
     "text": [
      "Enter the number: 5\n",
      "The result is:  10\n"
     ]
    }
   ],
   "source": [
    "num = int(input(\"Enter the number: \"))\n",
    "\n",
    "def double(a):\n",
    "    res = lambda a: 2*a\n",
    "    return res(a)\n",
    "    \n",
    "print(\"The result is: \",double(num))"
   ]
  },
  {
   "cell_type": "code",
   "execution_count": null,
   "metadata": {},
   "outputs": [],
   "source": []
  }
 ],
 "metadata": {
  "kernelspec": {
   "display_name": "Python 3",
   "language": "python",
   "name": "python3"
  },
  "language_info": {
   "codemirror_mode": {
    "name": "ipython",
    "version": 3
   },
   "file_extension": ".py",
   "mimetype": "text/x-python",
   "name": "python",
   "nbconvert_exporter": "python",
   "pygments_lexer": "ipython3",
   "version": "3.8.3"
  }
 },
 "nbformat": 4,
 "nbformat_minor": 4
}
