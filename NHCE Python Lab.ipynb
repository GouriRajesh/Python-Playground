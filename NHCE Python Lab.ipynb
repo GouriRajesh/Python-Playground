{
 "cells": [
  {
   "cell_type": "markdown",
   "metadata": {},
   "source": [
    "**Lab Program 1b]:Write a Python program which accepts the radius of a circle from the user\n",
    "and compute the area.**"
   ]
  },
  {
   "cell_type": "code",
   "execution_count": 7,
   "metadata": {},
   "outputs": [
    {
     "name": "stdout",
     "output_type": "stream",
     "text": [
      "Enter the radius of the circle5.5\n",
      "The area of the circle = 95.04549999999999\n"
     ]
    }
   ],
   "source": [
    "# Radius of a circle\n",
    "r = float(input('Enter the radius of the circle'))\n",
    "area = 3.142*r*r\n",
    "print('The area of the circle =',area)"
   ]
  },
  {
   "cell_type": "markdown",
   "metadata": {},
   "source": [
    "**Lab Program 1c]: Write a Python program which accepts the user's first and last name and\n",
    "print them in reverse order with a space between them.**"
   ]
  },
  {
   "cell_type": "code",
   "execution_count": 8,
   "metadata": {},
   "outputs": [
    {
     "name": "stdout",
     "output_type": "stream",
     "text": [
      "Enter your first name :gouri\n",
      "Enter your last name :rajesh\n",
      "Reverse order is : rajesh gouri\n"
     ]
    }
   ],
   "source": [
    "# First and Last name in reverse order\n",
    "first = input('Enter your first name :')\n",
    "last = input('Enter your last name :')\n",
    "\n",
    "print('Reverse order is :', last +\" \"+first)\n"
   ]
  },
  {
   "cell_type": "markdown",
   "metadata": {},
   "source": [
    "**Lab Program 2a]: Write a python program for checking whether the given number is an even number or not.**"
   ]
  },
  {
   "cell_type": "code",
   "execution_count": 2,
   "metadata": {},
   "outputs": [
    {
     "name": "stdout",
     "output_type": "stream",
     "text": [
      "Enter a number:12\n",
      "The number 12 is an even number\n"
     ]
    }
   ],
   "source": [
    "num = int(input('Enter a number:'))\n",
    "if num%2 == 0:\n",
    "    print(f'The number {num} is an even number')\n",
    "else:\n",
    "    print(f'The number {num} is an odd number')\n"
   ]
  },
  {
   "cell_type": "markdown",
   "metadata": {},
   "source": [
    "**Lab Program 2b]: Write a Python program to find the median among three given numbers.**"
   ]
  },
  {
   "cell_type": "code",
   "execution_count": 3,
   "metadata": {},
   "outputs": [
    {
     "name": "stdout",
     "output_type": "stream",
     "text": [
      "Enter first number:13\n",
      "Enter second number:45\n",
      "Enter third number:19\n",
      "19  is the median value\n"
     ]
    }
   ],
   "source": [
    "a = int(input('Enter first number:'))\n",
    "b = int(input('Enter second number:'))\n",
    "c = int(input('Enter third number:'))\n",
    "\n",
    "if a>b and a>c: # a is greatest\n",
    "    if b>c:\n",
    "        print(b,' is the median value')\n",
    "    else:\n",
    "        print(c,' is the median value')\n",
    "elif b>a and b>c: # b is the greatest\n",
    "    if a>c:\n",
    "        print(a,' is the median value')\n",
    "    else:\n",
    "        print(c,' is the median value')\n",
    "elif c>a and c>b:# c is the greatest\n",
    "    if a>b:\n",
    "        print(a,' is the median value')\n",
    "    else:\n",
    "        print(b,' is the median value')\n"
   ]
  },
  {
   "cell_type": "markdown",
   "metadata": {},
   "source": [
    "**Lab Program 3a]: Write a python program to find those numbers which are divisible by 7 and multiple of 5, between 1500 and 2700 (both included).**"
   ]
  },
  {
   "cell_type": "code",
   "execution_count": 1,
   "metadata": {},
   "outputs": [
    {
     "name": "stdout",
     "output_type": "stream",
     "text": [
      "The numbers divisible by 7 and multiple of 5 between 1500 and 2700 are:\n",
      "1505\n",
      "1540\n",
      "1575\n",
      "1610\n",
      "1645\n",
      "1680\n",
      "1715\n",
      "1750\n",
      "1785\n",
      "1820\n",
      "1855\n",
      "1890\n",
      "1925\n",
      "1960\n",
      "1995\n",
      "2030\n",
      "2065\n",
      "2100\n",
      "2135\n",
      "2170\n",
      "2205\n",
      "2240\n",
      "2275\n",
      "2310\n",
      "2345\n",
      "2380\n",
      "2415\n",
      "2450\n",
      "2485\n",
      "2520\n",
      "2555\n",
      "2590\n",
      "2625\n",
      "2660\n",
      "2695\n"
     ]
    }
   ],
   "source": [
    "print('The numbers divisible by 7 and multiple of 5 between 1500 and 2700 are:')\n",
    "for i in range(1500,2701):\n",
    "    if i%7==0 and i%5==0:\n",
    "        print(i)\n"
   ]
  },
  {
   "cell_type": "markdown",
   "metadata": {},
   "source": [
    "**LAB PROGRAM 3b]: Write a python program to guess a number between 1 to 9.**"
   ]
  },
  {
   "cell_type": "code",
   "execution_count": 2,
   "metadata": {},
   "outputs": [
    {
     "name": "stdout",
     "output_type": "stream",
     "text": [
      "Guess a number between 1 and 9:5\n",
      "Try again!\n",
      "Guess a number between 1 and 9:1\n",
      "Try again!\n",
      "Guess a number between 1 and 9:6\n",
      "Try again!\n",
      "Guess a number between 1 and 9:4\n",
      "Try again!\n",
      "Guess a number between 1 and 9:3\n",
      "Try again!\n",
      "Guess a number between 1 and 9:6\n",
      "Try again!\n",
      "Guess a number between 1 and 9:8\n",
      "Your guess is correct!\n"
     ]
    }
   ],
   "source": [
    "import random\n",
    "\n",
    "rand_num = random.randint(1,9)\n",
    "while True:\n",
    "    guess = int(input('Guess a number between 1 and 9:'))\n",
    "    if rand_num==guess:\n",
    "        print('Your guess is correct!')\n",
    "        break\n",
    "    else:\n",
    "        print('Try again!')\n",
    "    "
   ]
  },
  {
   "cell_type": "markdown",
   "metadata": {},
   "source": [
    "**Lab Program 4a]: Write a Python function that takes a list of words and returns the length of\n",
    "the longest one.**"
   ]
  },
  {
   "cell_type": "code",
   "execution_count": 3,
   "metadata": {},
   "outputs": [
    {
     "name": "stdout",
     "output_type": "stream",
     "text": [
      "Enter the number of words:5\n",
      "Enter the word:Helloooooo\n",
      "Enter the word:gouri\n",
      "Enter the word:howwwwwwwwwww\n",
      "Enter the word:are\n",
      "Enter the word:you?\n",
      "The length of the longest word is: 13\n"
     ]
    }
   ],
   "source": [
    "def word_length(a):\n",
    "    maxi=0\n",
    "    for item in a:\n",
    "        if len(item)>maxi:\n",
    "            maxi=len(item)\n",
    "    return maxi\n",
    "\n",
    "\n",
    "num = int(input(\"Enter the number of words:\"))\n",
    "slist=[]\n",
    "for i in range(num):\n",
    "    slist.append(input(\"Enter the word:\"))\n",
    "\n",
    "res=word_length(slist)\n",
    "print(\"The length of the longest word is:\",res)\n"
   ]
  },
  {
   "cell_type": "markdown",
   "metadata": {},
   "source": [
    "**Lab Program 4b]: Write a Python program to count the number of characters (character\n",
    "frequency) in a string.**"
   ]
  },
  {
   "cell_type": "code",
   "execution_count": 15,
   "metadata": {},
   "outputs": [
    {
     "name": "stdout",
     "output_type": "stream",
     "text": [
      "Enter the string:hello good morning gouri\n",
      "The count of characters in the given string is:\n",
      "{'h': 1, 'e': 1, 'l': 2, 'o': 5, ' ': 3, 'g': 3, 'd': 1, 'm': 1, 'r': 2, 'n': 2, 'i': 2, 'u': 1}\n"
     ]
    }
   ],
   "source": [
    "def freq(s):\n",
    "    count_dict={}\n",
    "    for i in range(len(s)):\n",
    "        count=0\n",
    "        for j in range(len(s)):\n",
    "            if s[i]==s[j]:\n",
    "                count+=1\n",
    "        count_dict[s[i]]=count\n",
    "    return count_dict\n",
    "    \n",
    "s = input(\"Enter the string:\")\n",
    "res = freq(s)\n",
    "print(f\"The count of characters in the given string is:\")\n",
    "print(res)"
   ]
  },
  {
   "cell_type": "markdown",
   "metadata": {},
   "source": [
    "**LAB PROGRAM 5a]: Write a python program to find the sum and average of elements in a list.**"
   ]
  },
  {
   "cell_type": "code",
   "execution_count": 3,
   "metadata": {},
   "outputs": [
    {
     "name": "stdout",
     "output_type": "stream",
     "text": [
      "Enter number of elements in the list:5\n",
      "Enter the elements of the list separated by a comma:1,2,3,4,5\n",
      "The sum of elements in the list is:  15\n",
      "The average of elements in the list is:  3.0\n"
     ]
    }
   ],
   "source": [
    "num = int(input('Enter number of elements in the list:'))\n",
    "l= list(map(int,input('Enter the elements of the list separated by a comma:').strip().split(','))) #[:num]\n",
    "sum = 0\n",
    "for i in l:\n",
    "    sum+=i\n",
    "\n",
    "le=len(l)\n",
    "print('The sum of elements in the list is: ',sum)\n",
    "print('The average of elements in the list is: ',sum/le)\n"
   ]
  },
  {
   "cell_type": "markdown",
   "metadata": {},
   "source": [
    " **LAB PROGRAM 5b]: Write a Python program to remove duplicates from a list.**"
   ]
  },
  {
   "cell_type": "code",
   "execution_count": 4,
   "metadata": {},
   "outputs": [
    {
     "name": "stdout",
     "output_type": "stream",
     "text": [
      "Enter number of elements in the list:5\n",
      "Enter the elements of the list separated by a comma:1,2,1,3,2\n",
      "The list after removing duplicates is: [1, 2, 3]\n"
     ]
    }
   ],
   "source": [
    "num = int(input('Enter number of elements in the list:'))\n",
    "l= list(map(int,input('Enter the elements of the list separated by a comma:').strip().split(','))) #[:num]\n",
    "\n",
    "new_list=[]\n",
    "for i in l:\n",
    "    if i not in new_list:\n",
    "        new_list.append(i)\n",
    "    else:\n",
    "        continue\n",
    "print(\"The list after removing duplicates is:\", new_list)\n"
   ]
  },
  {
   "cell_type": "markdown",
   "metadata": {},
   "source": [
    "**Lab Program 5c]: Write a python script to sort (ascending and descending) a dictionary by value.**"
   ]
  },
  {
   "cell_type": "code",
   "execution_count": 12,
   "metadata": {},
   "outputs": [
    {
     "name": "stdout",
     "output_type": "stream",
     "text": [
      "Dictionary in ascendig order is:\n",
      "{4: 'Are', 2: 'Gouri', 1: 'Hello', 3: 'How', 5: 'You?'}\n",
      "Dictionary in descendig order is:\n",
      "{5: 'You?', 3: 'How', 1: 'Hello', 2: 'Gouri', 4: 'Are'}\n"
     ]
    }
   ],
   "source": [
    "import operator\n",
    "\n",
    "d={1:\"Hello\",2: \"Gouri\",3:\"How\",4:\"Are\",5:\"You?\"}\n",
    "\n",
    "print(\"Dictionary in ascendig order is:\")\n",
    "print(dict(sorted(d.items(),key=operator.itemgetter(1),reverse=False)))\n",
    "\n",
    "print(\"Dictionary in descendig order is:\")\n",
    "print(dict(sorted(d.items(),key=operator.itemgetter(1),reverse=True)))"
   ]
  },
  {
   "cell_type": "markdown",
   "metadata": {},
   "source": [
    "**LAB PROGRAM 6a]: Write a python program to add an element to a tuple.**"
   ]
  },
  {
   "cell_type": "code",
   "execution_count": 5,
   "metadata": {},
   "outputs": [
    {
     "name": "stdout",
     "output_type": "stream",
     "text": [
      "(1, 2, 3, 4, 5, 6, 7, 8, 9, 10)\n",
      "(1, 2, 3, 4, 5, 'Hello', 'I am', 'Gouri', 6, 7, 8, 9, 10)\n",
      "(1, 2, 3, 4, 5, 'Hello', 'I am', 'Gouri', 6, 7, 8, 9, 10, 'New element here')\n"
     ]
    }
   ],
   "source": [
    "t = (1,2,3,4,5)\n",
    "\n",
    "# Inserting element to the end\n",
    "t=t+(6,7,8,9,10)\n",
    "print(t)\n",
    "\n",
    "# Inserting element in between\n",
    "t= t[:5]+('Hello','I am','Gouri')+t[5:]\n",
    "print(t)\n",
    "\n",
    "# Inserting element by converting into list\n",
    "li= list(t)\n",
    "li.append('New element here')\n",
    "t=tuple(li)\n",
    "print(t)\n"
   ]
  },
  {
   "cell_type": "markdown",
   "metadata": {},
   "source": [
    "**LAB PROGRAM 6b]: Write a python program to add members in a set.**"
   ]
  },
  {
   "cell_type": "code",
   "execution_count": 6,
   "metadata": {},
   "outputs": [
    {
     "name": "stdout",
     "output_type": "stream",
     "text": [
      "Adding members using add: {1, 2, 3}\n",
      "Adding members using update: {1, 2, 3, 10, 20, 30}\n"
     ]
    }
   ],
   "source": [
    "s=set()\n",
    "s.add(1)\n",
    "s.add(2)\n",
    "s.add(3)\n",
    "print(\"Adding members using add:\",s)\n",
    "s.update([10,20,30])\n",
    "print(\"Adding members using update:\",s)\n"
   ]
  },
  {
   "cell_type": "markdown",
   "metadata": {},
   "source": [
    "**Lab Program 7a]: Write a Python function to find the Max of three numbers.**"
   ]
  },
  {
   "cell_type": "code",
   "execution_count": 16,
   "metadata": {},
   "outputs": [
    {
     "name": "stdout",
     "output_type": "stream",
     "text": [
      "Enter 1st number:60\n",
      "Enter 2nd number:30\n",
      "Enter 3rd number:100\n",
      "The maximum of given three numbers is: 100\n"
     ]
    }
   ],
   "source": [
    "def maximum(a,b,c):\n",
    "    m1=max(a,b)\n",
    "    m2=max(m1,c)\n",
    "    return m2\n",
    "a=int(input(\"Enter 1st number:\"))\n",
    "b=int(input(\"Enter 2nd number:\"))\n",
    "c=int(input(\"Enter 3rd number:\"))\n",
    "print(\"The maximum of given three numbers is:\",maximum(a,b,c))\n",
    "    "
   ]
  },
  {
   "cell_type": "markdown",
   "metadata": {},
   "source": [
    "**Lab Program 7b]: Write a Python function to multiply all the numbers in a list.**"
   ]
  },
  {
   "cell_type": "code",
   "execution_count": 20,
   "metadata": {},
   "outputs": [
    {
     "name": "stdout",
     "output_type": "stream",
     "text": [
      "Enter the list separated by comma:1,2,3,4,5\n",
      "The product of all the elements in the list is: 120\n"
     ]
    }
   ],
   "source": [
    "def mul(a):\n",
    "    product=1\n",
    "    for i in a:\n",
    "        product*=i\n",
    "    return product\n",
    "\n",
    "li=list(map(int,input(\"Enter the list separated by comma:\").strip().split(\",\")))\n",
    "print(\"The product of all the elements in the list is:\",mul(li))"
   ]
  },
  {
   "cell_type": "markdown",
   "metadata": {},
   "source": [
    "**Lab Program 7c]: Write a Python function to calculate the factorial of a number (a non-\n",
    "negative integer). The function accepts the number as an argument.**"
   ]
  },
  {
   "cell_type": "code",
   "execution_count": 21,
   "metadata": {},
   "outputs": [
    {
     "name": "stdout",
     "output_type": "stream",
     "text": [
      "Enter a positive integer for factorial:-1\n",
      "Enter a positive integer for factorial:-5\n",
      "Enter a positive integer for factorial:5\n",
      "The factorial of 5 is:120\n"
     ]
    }
   ],
   "source": [
    "def fact(n):\n",
    "    if n==0 or n==1:\n",
    "        return 1\n",
    "    else:\n",
    "        return(n*fact(n-1))\n",
    "\n",
    "while True:\n",
    "    num=int(input(\"Enter a positive integer for factorial:\"))\n",
    "    if num>=0:\n",
    "        print(f\"The factorial of {num} is:{fact(num)}\")\n",
    "        break\n",
    "        "
   ]
  },
  {
   "cell_type": "markdown",
   "metadata": {},
   "source": [
    "**Lab Program 7d]: Write a Python program to sort a list of tuples using Lambda.**"
   ]
  },
  {
   "cell_type": "code",
   "execution_count": 3,
   "metadata": {},
   "outputs": [
    {
     "name": "stdout",
     "output_type": "stream",
     "text": [
      "The sorted list of tuples is:  [(1, 2), (1, 2, 3), (1, 3), (1, 9), (2, 3, 4), (6, 4, 5)]\n"
     ]
    }
   ],
   "source": [
    "list_tuples = [(1,2),(2,3,4),(1,3),(1,2,3),(6,4,5),(1,9)]\n",
    "\n",
    "x = lambda a: sorted(a)\n",
    "print(\"The sorted list of tuples is: \", x(list_tuples))"
   ]
  },
  {
   "cell_type": "markdown",
   "metadata": {},
   "source": [
    "**Lab Program 8a]: Write a Python class to find a pair of elements (indices of the two numbers)\n",
    "from a given array whose sum equals a specific target number.**"
   ]
  },
  {
   "cell_type": "code",
   "execution_count": 32,
   "metadata": {},
   "outputs": [
    {
     "name": "stdout",
     "output_type": "stream",
     "text": [
      "The indices are: 0 and 3\n",
      "The indices are: 1 and 2\n"
     ]
    }
   ],
   "source": [
    "class sum_index:\n",
    "    \n",
    "    def __init__(self,arr,sum):\n",
    "        self.arr = arr\n",
    "        self.sum = sum\n",
    "    \n",
    "    def output(self):\n",
    "        l = len(self.arr)\n",
    "        for i in range(l):\n",
    "            for j in range(i+1,l):\n",
    "                if self.arr[i] + self.arr[j] == self.sum:\n",
    "                    print(f\"The indices are: {i} and {j}\")\n",
    "            \n",
    "                    \n",
    "a = [1,2,3,4,5,6,7,8,9,10]\n",
    "o1 = sum_index(a,5)\n",
    "o1.output()\n"
   ]
  },
  {
   "cell_type": "markdown",
   "metadata": {},
   "source": [
    "**Lab Program 8b]: Write a Python class named Rectangle constructed by a length and width\n",
    "and a method which will compute the area of a rectangle.**"
   ]
  },
  {
   "cell_type": "code",
   "execution_count": 7,
   "metadata": {},
   "outputs": [
    {
     "name": "stdout",
     "output_type": "stream",
     "text": [
      "Enter the length of rectangle: 5\n",
      "Enter the breadth of rectangle: 10\n",
      "The area of the rectangle is:  50\n"
     ]
    }
   ],
   "source": [
    "class Rectangle:\n",
    "    \n",
    "    def __init__(self,length,breadth):\n",
    "        self.length = length\n",
    "        self.breadth = breadth\n",
    "        \n",
    "    def area(self):\n",
    "        return self.length*self.breadth\n",
    "\n",
    "l = int(input(\"Enter the length of rectangle: \"))\n",
    "b =int(input(\"Enter the breadth of rectangle: \"))\n",
    "\n",
    "rect1 = Rectangle(l,b)\n",
    "print(\"The area of the rectangle is: \", rect1.area())"
   ]
  },
  {
   "cell_type": "markdown",
   "metadata": {},
   "source": [
    "**Lab Program 9a]: Write a Python GUI program to add a button in your application using\n",
    "tkinter module.**"
   ]
  },
  {
   "cell_type": "code",
   "execution_count": 19,
   "metadata": {},
   "outputs": [],
   "source": [
    "import tkinter as tk\n",
    "\n",
    "root = tk.Tk()\n",
    "root.title(\"Button Window\")\n",
    "\n",
    "label = tk.Label(root,text=\"My first application\").place(x=25,y=5)\n",
    "btn = tk.Button(root,text=\"Exit Button\",height=2,width=20,command=root.destroy).place(x=35,y=30)\n",
    "root.mainloop()\n",
    "\n",
    "\n"
   ]
  },
  {
   "cell_type": "markdown",
   "metadata": {},
   "source": [
    "**Lab Program 9b]: Write a Python GUI program to create a Combo box with three options\n",
    "using tkinter module.**"
   ]
  },
  {
   "cell_type": "code",
   "execution_count": 20,
   "metadata": {},
   "outputs": [],
   "source": [
    "import tkinter as tk\n",
    "from tkinter import ttk\n",
    "\n",
    "root = tk.Tk()\n",
    "root.title(\"Combo Window\")\n",
    "\n",
    "str_var = tk.StringVar()\n",
    "label = tk.Label(root,text=\"My second application\").place(x=25,y=5)\n",
    "comb = ttk.Combobox(root,text=str_var,values=['Rose','Sunflower','Orchids']).place(x=5,y=30)\n",
    "root.mainloop()\n"
   ]
  },
  {
   "cell_type": "markdown",
   "metadata": {},
   "source": [
    "**Lab Program 9c]: Write a Python GUI program to create a Check button widget using tkinter\n",
    "module.**"
   ]
  },
  {
   "cell_type": "code",
   "execution_count": 21,
   "metadata": {},
   "outputs": [],
   "source": [
    "import tkinter as tk\n",
    "\n",
    "root = tk.Tk()\n",
    "root.title(\"Check Window\")\n",
    "\n",
    "res= tk.BooleanVar()\n",
    "label = tk.Label(root,text=\"My third application\").place(x=25,y=5)\n",
    "chk = tk.Checkbutton(root,text=\"This is a check button\",variable=res).place(x=10,y=30)\n",
    "\n",
    "root.mainloop()"
   ]
  },
  {
   "cell_type": "markdown",
   "metadata": {},
   "source": [
    "**Lab Program 10a]: Write a Python GUI program to create a Text widget using tkinter module.\n",
    "Insert a string at the beginning then insert a string into the current text.\n",
    "Delete the first and last character of the text.**"
   ]
  },
  {
   "cell_type": "code",
   "execution_count": 22,
   "metadata": {},
   "outputs": [],
   "source": [
    "import tkinter as tk\n",
    "\n",
    "root = tk.Tk()\n",
    "my_text = tk.Text(root)\n",
    "\n",
    "#Inserting a string at the beginning\n",
    "my_text.insert(\"1.0\",\"Hello! This is Gouri.\")\n",
    "#Inserting a string at the current position\n",
    "my_text.insert(\"21.0\",\"I study at NHCE.\")\n",
    "#Deleting first and last character of the text\n",
    "my_text.delete(\"1.0\")\n",
    "my_text.delete(\"end-2 char\")\n",
    "\n",
    "my_text.pack()\n",
    "root.mainloop()\n"
   ]
  },
  {
   "cell_type": "markdown",
   "metadata": {},
   "source": [
    "**Lab Program 10b]: Write a Python GUI program to create three radio buttons widgets using\n",
    "tkinter module.**"
   ]
  },
  {
   "cell_type": "code",
   "execution_count": 24,
   "metadata": {},
   "outputs": [],
   "source": [
    "import tkinter as tk\n",
    "\n",
    "root = tk.Tk()\n",
    "root.title(\"Radio Window\")\n",
    "root.geometry(\"400x500\")\n",
    "\n",
    "radio1 = tk.Radiobutton(root,text=\"FIRST\",value=1)\n",
    "radio1.grid(column=0,row=0)\n",
    "\n",
    "radio2 = tk.Radiobutton(root,text=\"SECOND\",value=2)\n",
    "radio2.grid(column=1,row=0)\n",
    "\n",
    "radio3 = tk.Radiobutton(root,text=\"THIRD\",value=3)\n",
    "radio3.grid(column=2,row=0)\n",
    "\n",
    "root.mainloop()\n"
   ]
  },
  {
   "cell_type": "markdown",
   "metadata": {},
   "source": [
    "**Lab Program 10c]: Write a Python GUI program to create a Listbox bar widgets using tkinter\n",
    "module.**"
   ]
  },
  {
   "cell_type": "code",
   "execution_count": 25,
   "metadata": {},
   "outputs": [],
   "source": [
    "import tkinter as tk\n",
    "\n",
    "root = tk.Tk()\n",
    "lab = tk.Label(root,text=\"Colours\")\n",
    "lb =tk.Listbox(root)\n",
    "lb.insert(1,\"pink\")\n",
    "lb.insert(2,\"blue\")\n",
    "lb.insert(3,\"red\")\n",
    "lb.insert(4,\"green\")\n",
    "lb.insert(5,\"yellow\")\n",
    "\n",
    "lab.pack()\n",
    "lb.pack()\n",
    "\n",
    "root.mainloop()"
   ]
  },
  {
   "cell_type": "markdown",
   "metadata": {},
   "source": [
    "**Lab Program 11a]: Write a Python program to create a small GUI application for insert, update\n",
    "and delete in a table using a backend and front end for creating form.**"
   ]
  },
  {
   "cell_type": "code",
   "execution_count": 72,
   "metadata": {},
   "outputs": [
    {
     "ename": "DatabaseError",
     "evalue": "1007 (HY000): Can't create database 'python_lab'; database exists",
     "output_type": "error",
     "traceback": [
      "\u001b[1;31m---------------------------------------------------------------------------\u001b[0m",
      "\u001b[1;31mDatabaseError\u001b[0m                             Traceback (most recent call last)",
      "\u001b[1;32m<ipython-input-72-d1696715cfff>\u001b[0m in \u001b[0;36m<module>\u001b[1;34m\u001b[0m\n\u001b[0;32m      6\u001b[0m     password=\"root\")\n\u001b[0;32m      7\u001b[0m \u001b[0mmycursor\u001b[0m \u001b[1;33m=\u001b[0m \u001b[0mmydb\u001b[0m\u001b[1;33m.\u001b[0m\u001b[0mcursor\u001b[0m\u001b[1;33m(\u001b[0m\u001b[1;33m)\u001b[0m\u001b[1;33m\u001b[0m\u001b[1;33m\u001b[0m\u001b[0m\n\u001b[1;32m----> 8\u001b[1;33m \u001b[0mmycursor\u001b[0m\u001b[1;33m.\u001b[0m\u001b[0mexecute\u001b[0m\u001b[1;33m(\u001b[0m\u001b[1;34m\"CREATE DATABASE python_lab\"\u001b[0m\u001b[1;33m)\u001b[0m\u001b[1;33m\u001b[0m\u001b[1;33m\u001b[0m\u001b[0m\n\u001b[0m",
      "\u001b[1;32m~\\anaconda3\\lib\\site-packages\\mysql\\connector\\cursor.py\u001b[0m in \u001b[0;36mexecute\u001b[1;34m(self, operation, params, multi)\u001b[0m\n\u001b[0;32m    567\u001b[0m \u001b[1;33m\u001b[0m\u001b[0m\n\u001b[0;32m    568\u001b[0m         \u001b[1;32mtry\u001b[0m\u001b[1;33m:\u001b[0m\u001b[1;33m\u001b[0m\u001b[1;33m\u001b[0m\u001b[0m\n\u001b[1;32m--> 569\u001b[1;33m             \u001b[0mself\u001b[0m\u001b[1;33m.\u001b[0m\u001b[0m_handle_result\u001b[0m\u001b[1;33m(\u001b[0m\u001b[0mself\u001b[0m\u001b[1;33m.\u001b[0m\u001b[0m_connection\u001b[0m\u001b[1;33m.\u001b[0m\u001b[0mcmd_query\u001b[0m\u001b[1;33m(\u001b[0m\u001b[0mstmt\u001b[0m\u001b[1;33m)\u001b[0m\u001b[1;33m)\u001b[0m\u001b[1;33m\u001b[0m\u001b[1;33m\u001b[0m\u001b[0m\n\u001b[0m\u001b[0;32m    570\u001b[0m         \u001b[1;32mexcept\u001b[0m \u001b[0merrors\u001b[0m\u001b[1;33m.\u001b[0m\u001b[0mInterfaceError\u001b[0m\u001b[1;33m:\u001b[0m\u001b[1;33m\u001b[0m\u001b[1;33m\u001b[0m\u001b[0m\n\u001b[0;32m    571\u001b[0m             \u001b[1;32mif\u001b[0m \u001b[0mself\u001b[0m\u001b[1;33m.\u001b[0m\u001b[0m_connection\u001b[0m\u001b[1;33m.\u001b[0m\u001b[0m_have_next_result\u001b[0m\u001b[1;33m:\u001b[0m  \u001b[1;31m# pylint: disable=W0212\u001b[0m\u001b[1;33m\u001b[0m\u001b[1;33m\u001b[0m\u001b[0m\n",
      "\u001b[1;32m~\\anaconda3\\lib\\site-packages\\mysql\\connector\\connection.py\u001b[0m in \u001b[0;36mcmd_query\u001b[1;34m(self, query, raw, buffered, raw_as_string)\u001b[0m\n\u001b[0;32m    649\u001b[0m             \u001b[0mquery\u001b[0m \u001b[1;33m=\u001b[0m \u001b[0mquery\u001b[0m\u001b[1;33m.\u001b[0m\u001b[0mencode\u001b[0m\u001b[1;33m(\u001b[0m\u001b[1;34m'utf-8'\u001b[0m\u001b[1;33m)\u001b[0m\u001b[1;33m\u001b[0m\u001b[1;33m\u001b[0m\u001b[0m\n\u001b[0;32m    650\u001b[0m         \u001b[1;32mtry\u001b[0m\u001b[1;33m:\u001b[0m\u001b[1;33m\u001b[0m\u001b[1;33m\u001b[0m\u001b[0m\n\u001b[1;32m--> 651\u001b[1;33m             \u001b[0mresult\u001b[0m \u001b[1;33m=\u001b[0m \u001b[0mself\u001b[0m\u001b[1;33m.\u001b[0m\u001b[0m_handle_result\u001b[0m\u001b[1;33m(\u001b[0m\u001b[0mself\u001b[0m\u001b[1;33m.\u001b[0m\u001b[0m_send_cmd\u001b[0m\u001b[1;33m(\u001b[0m\u001b[0mServerCmd\u001b[0m\u001b[1;33m.\u001b[0m\u001b[0mQUERY\u001b[0m\u001b[1;33m,\u001b[0m \u001b[0mquery\u001b[0m\u001b[1;33m)\u001b[0m\u001b[1;33m)\u001b[0m\u001b[1;33m\u001b[0m\u001b[1;33m\u001b[0m\u001b[0m\n\u001b[0m\u001b[0;32m    652\u001b[0m         \u001b[1;32mexcept\u001b[0m \u001b[0merrors\u001b[0m\u001b[1;33m.\u001b[0m\u001b[0mProgrammingError\u001b[0m \u001b[1;32mas\u001b[0m \u001b[0merr\u001b[0m\u001b[1;33m:\u001b[0m\u001b[1;33m\u001b[0m\u001b[1;33m\u001b[0m\u001b[0m\n\u001b[0;32m    653\u001b[0m             \u001b[1;32mif\u001b[0m \u001b[0merr\u001b[0m\u001b[1;33m.\u001b[0m\u001b[0merrno\u001b[0m \u001b[1;33m==\u001b[0m \u001b[1;36m3948\u001b[0m \u001b[1;32mand\u001b[0m\u001b[0;31m \u001b[0m\u001b[0;31m\\\u001b[0m\u001b[1;33m\u001b[0m\u001b[1;33m\u001b[0m\u001b[0m\n",
      "\u001b[1;32m~\\anaconda3\\lib\\site-packages\\mysql\\connector\\connection.py\u001b[0m in \u001b[0;36m_handle_result\u001b[1;34m(self, packet)\u001b[0m\n\u001b[0;32m    536\u001b[0m             \u001b[1;32mreturn\u001b[0m \u001b[0mself\u001b[0m\u001b[1;33m.\u001b[0m\u001b[0m_handle_eof\u001b[0m\u001b[1;33m(\u001b[0m\u001b[0mpacket\u001b[0m\u001b[1;33m)\u001b[0m\u001b[1;33m\u001b[0m\u001b[1;33m\u001b[0m\u001b[0m\n\u001b[0;32m    537\u001b[0m         \u001b[1;32melif\u001b[0m \u001b[0mpacket\u001b[0m\u001b[1;33m[\u001b[0m\u001b[1;36m4\u001b[0m\u001b[1;33m]\u001b[0m \u001b[1;33m==\u001b[0m \u001b[1;36m255\u001b[0m\u001b[1;33m:\u001b[0m\u001b[1;33m\u001b[0m\u001b[1;33m\u001b[0m\u001b[0m\n\u001b[1;32m--> 538\u001b[1;33m             \u001b[1;32mraise\u001b[0m \u001b[0merrors\u001b[0m\u001b[1;33m.\u001b[0m\u001b[0mget_exception\u001b[0m\u001b[1;33m(\u001b[0m\u001b[0mpacket\u001b[0m\u001b[1;33m)\u001b[0m\u001b[1;33m\u001b[0m\u001b[1;33m\u001b[0m\u001b[0m\n\u001b[0m\u001b[0;32m    539\u001b[0m \u001b[1;33m\u001b[0m\u001b[0m\n\u001b[0;32m    540\u001b[0m         \u001b[1;31m# We have a text result set\u001b[0m\u001b[1;33m\u001b[0m\u001b[1;33m\u001b[0m\u001b[1;33m\u001b[0m\u001b[0m\n",
      "\u001b[1;31mDatabaseError\u001b[0m: 1007 (HY000): Can't create database 'python_lab'; database exists"
     ]
    }
   ],
   "source": [
    "import mysql.connector\n",
    "\n",
    "mydb = mysql.connector.connect(\n",
    "    host=\"localhost\",\n",
    "    user=\"root\",\n",
    "    password=\"root\")\n",
    "mycursor = mydb.cursor()\n",
    "mycursor.execute(\"CREATE DATABASE python_lab\")"
   ]
  },
  {
   "cell_type": "code",
   "execution_count": 73,
   "metadata": {},
   "outputs": [],
   "source": [
    "mycursor.close()\n",
    "mydb.close()"
   ]
  },
  {
   "cell_type": "code",
   "execution_count": 75,
   "metadata": {},
   "outputs": [],
   "source": [
    "import mysql.connector\n",
    "\n",
    "mydb = mysql.connector.connect(\n",
    "    host=\"localhost\",\n",
    "    user=\"root\",\n",
    "    password=\"root\",\n",
    "    database=\"python_lab\")\n",
    "\n",
    "mycursor = mydb.cursor()\n",
    "mycursor.execute(\"create table user(user_id int AUTO_INCREMENT primary key, name varchar(20) NOT NULL, phone_number varchar(10) UNIQUE NOT NULL)\")"
   ]
  },
  {
   "cell_type": "code",
   "execution_count": 2,
   "metadata": {},
   "outputs": [
    {
     "name": "stdout",
     "output_type": "stream",
     "text": [
      "(2, 'Gouri Rajesh', '1234567890')\n",
      "(3, 'Goutam', '1234567892')\n"
     ]
    }
   ],
   "source": [
    "import mysql.connector\n",
    "import tkinter as tk\n",
    "\n",
    "mydb = mysql.connector.connect(\n",
    "    host=\"localhost\",\n",
    "    user=\"root\",\n",
    "    password=\"root\",\n",
    "    database=\"python_lab\")\n",
    "\n",
    "mycursor = mydb.cursor()\n",
    "\n",
    "def enter_into_database():\n",
    "    mycursor.execute(\"insert into user(name,phone_number) values(%s,%s)\",(name_entry.get(),phone_entry.get()))\n",
    "    mydb.commit()\n",
    "\n",
    "def update_database():\n",
    "    mycursor.execute(\"update user set name=%s, phone_number=%s where phone_number=%s\",(uname_entry.get(),uphone_entry.get(),uophone_entry.get()))\n",
    "    mydb.commit()\n",
    "    \n",
    "def show_database():\n",
    "    mycursor.execute(\"select * from user\")\n",
    "    res = mycursor.fetchall()\n",
    "    for i in res:\n",
    "        print(i)\n",
    "\n",
    "def delete_from_database():\n",
    "    mycursor.execute(\"delete from user where name=%s and phone_number=%s\",(dname_entry.get(),dphone_entry.get()))\n",
    "    mydb.commit()\n",
    "    print(\"Record has been deleted!\")\n",
    "    \n",
    "def drop_table():\n",
    "    mycursor.execute(\"drop table user\")\n",
    "    mydb.commit()\n",
    "    print(\"Table has been dropped\")\n",
    "\n",
    "root = tk.Tk()\n",
    "root.title(\"Interactive GUI window\")\n",
    "root.geometry(\"500x700\")\n",
    "root.config(background=\"light green\")\n",
    "\n",
    "title = tk.Label(root, text=\"Hello! Please enter your details.\", font=(\"Georgia\",16,\"bold\",\"underline\"),bg=\"white\",fg=\"black\").place(x=60,y=30)\n",
    "\n",
    "# Entering details to database\n",
    "name_label = tk.Label(root,text=\"Enter your name\",font=(\"Georgia\",13)).place(x=30,y=100)\n",
    "phone_label = tk.Label(root,text=\"Enter your phone number\",font=(\"Georgia\",13)).place(x=30,y=160)\n",
    "\n",
    "name_entry = tk.Entry(root,font=(\"Georgia\",13),bg=\"white\")\n",
    "name_entry.place(x=250,y=100,width=200)\n",
    "phone_entry = tk.Entry(root,font=(\"Georgia\",13),bg=\"white\")\n",
    "phone_entry.place(x=250,y=160,width=200)\n",
    "\n",
    "submit = tk.Button(root,text=\"Submit\",bg=\"yellow\",bd=10,command=enter_into_database).place(x=120,y=210)\n",
    "show = tk.Button(root,text=\"Show data\",bg=\"yellow\",bd=10,command=show_database).place(x=280,y=210)\n",
    "\n",
    "#Updating details in database\n",
    "uname_label = tk.Label(root,text=\"Update your name\",font=(\"Georgia\",13)).place(x=30,y=280)\n",
    "uphone_label = tk.Label(root,text=\"Update your phone number\",font=(\"Georgia\",13)).place(x=30,y=340)\n",
    "uophone_label = tk.Label(root,text=\"Enter old phone number\",font=(\"Georgia\",13)).place(x=30,y=400)\n",
    "\n",
    "uname_entry = tk.Entry(root,font=(\"Georgia\",13),bg=\"white\")\n",
    "uname_entry.place(x=250,y=280,width=200)\n",
    "uphone_entry = tk.Entry(root,font=(\"Georgia\",13),bg=\"white\")\n",
    "uphone_entry.place(x=250,y=340,width=200)\n",
    "uophone_entry = tk.Entry(root,font=(\"Georgia\",13),bg=\"white\")\n",
    "uophone_entry.place(x=250,y=400,width=200)\n",
    "\n",
    "update = tk.Button(root,text=\"Update\",bg=\"yellow\",bd=10,command=update_database).place(x=120,y=450)\n",
    "show = tk.Button(root,text=\"Show data\",bg=\"yellow\",bd=10,command=show_database).place(x=280,y=450)\n",
    "\n",
    "dtitle = tk.Label(root, text=\"Delete Profile\",font=(\"Georgia\",15),fg=\"red\").place(x=30,y=510)\n",
    "\n",
    "#Deleting details in database\n",
    "name_label = tk.Label(root,text=\"Enter name\",font=(\"Georgia\",13)).place(x=30,y=560)\n",
    "phone_label = tk.Label(root,text=\"Enter phone number\",font=(\"Georgia\",13)).place(x=30,y=600)\n",
    "\n",
    "dname_entry = tk.Entry(root,font=(\"Georgia\",13),bg=\"white\")\n",
    "dname_entry.place(x=250,y=560,width=200)\n",
    "dphone_entry = tk.Entry(root,font=(\"Georgia\",13),bg=\"white\")\n",
    "dphone_entry.place(x=250,y=600,width=200)\n",
    "\n",
    "delete = tk.Button(root,text=\"Delete\",bg=\"yellow\",bd=10,command=delete_from_database).place(x=120,y=640)\n",
    "dropt = tk.Button(root,text=\"Drop Table\",bg=\"yellow\",bd=10).place(x=280,y=640)\n",
    "\n",
    "root.mainloop()"
   ]
  },
  {
   "cell_type": "code",
   "execution_count": 3,
   "metadata": {},
   "outputs": [],
   "source": [
    "mycursor.close()\n",
    "mydb.close()"
   ]
  },
  {
   "cell_type": "markdown",
   "metadata": {},
   "source": [
    "**Lab Program 12a]: Write a Python program to add, subtract, multiple and divide two Pandas\n",
    "Series.**"
   ]
  },
  {
   "cell_type": "code",
   "execution_count": 1,
   "metadata": {},
   "outputs": [],
   "source": [
    "import pandas as pd"
   ]
  },
  {
   "cell_type": "code",
   "execution_count": 3,
   "metadata": {},
   "outputs": [],
   "source": [
    "d1 = pd.Series([2,3,6,8,10])\n",
    "d2 = pd.Series([1,3,5,7,9])"
   ]
  },
  {
   "cell_type": "code",
   "execution_count": 4,
   "metadata": {},
   "outputs": [
    {
     "name": "stdout",
     "output_type": "stream",
     "text": [
      "Adding two Panda Series\n"
     ]
    },
    {
     "data": {
      "text/plain": [
       "0     3\n",
       "1     6\n",
       "2    11\n",
       "3    15\n",
       "4    19\n",
       "dtype: int64"
      ]
     },
     "execution_count": 4,
     "metadata": {},
     "output_type": "execute_result"
    }
   ],
   "source": [
    "print(\"Adding two Panda Series\")\n",
    "d1+d2"
   ]
  },
  {
   "cell_type": "code",
   "execution_count": 5,
   "metadata": {},
   "outputs": [
    {
     "name": "stdout",
     "output_type": "stream",
     "text": [
      "Subtracting two Panda Series\n"
     ]
    },
    {
     "data": {
      "text/plain": [
       "0    1\n",
       "1    0\n",
       "2    1\n",
       "3    1\n",
       "4    1\n",
       "dtype: int64"
      ]
     },
     "execution_count": 5,
     "metadata": {},
     "output_type": "execute_result"
    }
   ],
   "source": [
    "print(\"Subtracting two Panda Series\")\n",
    "d1-d2"
   ]
  },
  {
   "cell_type": "code",
   "execution_count": 6,
   "metadata": {},
   "outputs": [
    {
     "name": "stdout",
     "output_type": "stream",
     "text": [
      "Multiplying two Panda Series\n"
     ]
    },
    {
     "data": {
      "text/plain": [
       "0     2\n",
       "1     9\n",
       "2    30\n",
       "3    56\n",
       "4    90\n",
       "dtype: int64"
      ]
     },
     "execution_count": 6,
     "metadata": {},
     "output_type": "execute_result"
    }
   ],
   "source": [
    "print(\"Multiplying two Panda Series\")\n",
    "d1*d2"
   ]
  },
  {
   "cell_type": "code",
   "execution_count": 7,
   "metadata": {},
   "outputs": [
    {
     "name": "stdout",
     "output_type": "stream",
     "text": [
      "Dividing two Panda Series\n"
     ]
    },
    {
     "data": {
      "text/plain": [
       "0    2.000000\n",
       "1    1.000000\n",
       "2    1.200000\n",
       "3    1.142857\n",
       "4    1.111111\n",
       "dtype: float64"
      ]
     },
     "execution_count": 7,
     "metadata": {},
     "output_type": "execute_result"
    }
   ],
   "source": [
    "print(\"Dividing two Panda Series\")\n",
    "d1/d2"
   ]
  },
  {
   "cell_type": "markdown",
   "metadata": {},
   "source": [
    "**Lab Program 12b]: Write a Python program to convert a dictionary to a Pandas series.**"
   ]
  },
  {
   "cell_type": "code",
   "execution_count": 8,
   "metadata": {},
   "outputs": [],
   "source": [
    "import pandas as pd"
   ]
  },
  {
   "cell_type": "code",
   "execution_count": 9,
   "metadata": {},
   "outputs": [],
   "source": [
    "dictionary = {'a': 100, 'b':200, 'c': 300, 'd':400, 'e':500}"
   ]
  },
  {
   "cell_type": "code",
   "execution_count": 10,
   "metadata": {},
   "outputs": [
    {
     "name": "stdout",
     "output_type": "stream",
     "text": [
      "Original Dictionary\n"
     ]
    },
    {
     "data": {
      "text/plain": [
       "{'a': 100, 'b': 200, 'c': 300, 'd': 400, 'e': 500}"
      ]
     },
     "execution_count": 10,
     "metadata": {},
     "output_type": "execute_result"
    }
   ],
   "source": [
    "print(\"Original Dictionary\")\n",
    "dictionary"
   ]
  },
  {
   "cell_type": "code",
   "execution_count": 11,
   "metadata": {},
   "outputs": [],
   "source": [
    "panda_series = pd.Series(dictionary)"
   ]
  },
  {
   "cell_type": "code",
   "execution_count": 12,
   "metadata": {},
   "outputs": [
    {
     "name": "stdout",
     "output_type": "stream",
     "text": [
      "Converted Series\n"
     ]
    },
    {
     "data": {
      "text/plain": [
       "a    100\n",
       "b    200\n",
       "c    300\n",
       "d    400\n",
       "e    500\n",
       "dtype: int64"
      ]
     },
     "execution_count": 12,
     "metadata": {},
     "output_type": "execute_result"
    }
   ],
   "source": [
    "print(\"Converted Series\")\n",
    "panda_series"
   ]
  },
  {
   "cell_type": "code",
   "execution_count": null,
   "metadata": {},
   "outputs": [],
   "source": []
  }
 ],
 "metadata": {
  "kernelspec": {
   "display_name": "Python 3",
   "language": "python",
   "name": "python3"
  },
  "language_info": {
   "codemirror_mode": {
    "name": "ipython",
    "version": 3
   },
   "file_extension": ".py",
   "mimetype": "text/x-python",
   "name": "python",
   "nbconvert_exporter": "python",
   "pygments_lexer": "ipython3",
   "version": "3.8.3"
  }
 },
 "nbformat": 4,
 "nbformat_minor": 4
}
